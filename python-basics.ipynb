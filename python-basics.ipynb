{
 "cells": [
  {
   "cell_type": "code",
   "execution_count": 1,
   "metadata": {},
   "outputs": [],
   "source": [
    "l = [2,3,4,1,5,6,7]"
   ]
  },
  {
   "cell_type": "code",
   "execution_count": 2,
   "metadata": {},
   "outputs": [],
   "source": [
    "def bsort(l):\n",
    "    for i in range(0, len(l)):\n",
    "        for j in range(i+1, len(l)):\n",
    "            if l[i] > l[j]:\n",
    "                temp = l[i]\n",
    "                l[i] = l[j]\n",
    "                l[j] = temp"
   ]
  },
  {
   "cell_type": "code",
   "execution_count": 3,
   "metadata": {},
   "outputs": [
    {
     "name": "stdout",
     "output_type": "stream",
     "text": [
      "[2, 3, 4, 1, 5, 6, 7]\n"
     ]
    }
   ],
   "source": [
    "print(l)"
   ]
  },
  {
   "cell_type": "code",
   "execution_count": 4,
   "metadata": {},
   "outputs": [
    {
     "name": "stdout",
     "output_type": "stream",
     "text": [
      "[1, 2, 3, 4, 5, 6, 7]\n"
     ]
    }
   ],
   "source": [
    "bsort(l)\n",
    "print(l)"
   ]
  },
  {
   "cell_type": "code",
   "execution_count": 5,
   "metadata": {},
   "outputs": [
    {
     "name": "stdout",
     "output_type": "stream",
     "text": [
      "4.0\n"
     ]
    }
   ],
   "source": [
    "mean = sum(l)/len(l)\n",
    "print(mean)"
   ]
  },
  {
   "cell_type": "code",
   "execution_count": 6,
   "metadata": {},
   "outputs": [
    {
     "name": "stdout",
     "output_type": "stream",
     "text": [
      "4\n"
     ]
    }
   ],
   "source": [
    "median = 0\n",
    "bsort(l)\n",
    "# print(l)\n",
    "median = l[len(l)//2]\n",
    "print(median)"
   ]
  },
  {
   "cell_type": "code",
   "execution_count": 7,
   "metadata": {},
   "outputs": [
    {
     "name": "stdout",
     "output_type": "stream",
     "text": [
      "[2, 1, 1, 3, 1, 1, 5, 1, 10, 1]\n",
      "[1, 2, 3, 4, 5, 6, 7, 8, 9, 10]\n",
      "9\n"
     ]
    }
   ],
   "source": [
    "l = [1,1,2,3,4,4,4,5,6,7,7,7,7,7,8,9,9,9,9,9,9,9,9,9,9,10]\n",
    "dl = {}\n",
    "for i in l:\n",
    "    dl[i] = 0\n",
    "for i in l:\n",
    "    dl[i] += 1\n",
    "\n",
    "v = list(dl.values())\n",
    "k = list(dl.keys())\n",
    "print(v)\n",
    "print(k)\n",
    "mode = k[v.index(max(v))]\n",
    "print(mode)"
   ]
  }
 ],
 "metadata": {
  "kernelspec": {
   "display_name": "Python 3",
   "language": "python",
   "name": "python3"
  },
  "language_info": {
   "codemirror_mode": {
    "name": "ipython",
    "version": 3
   },
   "file_extension": ".py",
   "mimetype": "text/x-python",
   "name": "python",
   "nbconvert_exporter": "python",
   "pygments_lexer": "ipython3",
   "version": "3.8.5"
  }
 },
 "nbformat": 4,
 "nbformat_minor": 4
}
