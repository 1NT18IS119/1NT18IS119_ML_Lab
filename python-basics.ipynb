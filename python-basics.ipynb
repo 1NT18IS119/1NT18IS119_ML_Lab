{
 "cells": [
  {
   "cell_type": "markdown",
   "metadata": {},
   "source": [
    "# Python basic programs"
   ]
  },
  {
   "cell_type": "code",
   "execution_count": 1,
   "metadata": {},
   "outputs": [
    {
     "name": "stdout",
     "output_type": "stream",
     "text": [
      "[1, 2, 3, 4]\n",
      "[1, 2, 3]\n"
     ]
    }
   ],
   "source": [
    "l = list()\n",
    "l = []\n",
    "l.append(1)\n",
    "l.extend([2,3,4])\n",
    "print(l)\n",
    "l.remove(4)\n",
    "print(l)"
   ]
  },
  {
   "cell_type": "code",
   "execution_count": 2,
   "metadata": {},
   "outputs": [
    {
     "name": "stdout",
     "output_type": "stream",
     "text": [
      "(1, 1, 2, 3, 4)\n",
      "2\n",
      "2\n"
     ]
    }
   ],
   "source": [
    "t = tuple()\n",
    "t = ()\n",
    "t = (1,1,2,3,4)\n",
    "print(t)\n",
    "print(t.count(1))\n",
    "print(t.index(2))"
   ]
  },
  {
   "cell_type": "code",
   "execution_count": 3,
   "metadata": {},
   "outputs": [
    {
     "name": "stdout",
     "output_type": "stream",
     "text": [
      "dict_values(['apple', 'ball', 'cat', 'dog'])\n",
      "dict_keys(['a', 'b', 'c', 'd'])\n"
     ]
    },
    {
     "data": {
      "text/plain": [
       "'apple'"
      ]
     },
     "execution_count": 3,
     "metadata": {},
     "output_type": "execute_result"
    }
   ],
   "source": [
    "d = dict()\n",
    "d = {}\n",
    "d['a'] = 'apple'\n",
    "d['b'] = 'ball'\n",
    "d['c'] = 'cat'\n",
    "d['d'] = 'dog'\n",
    "print(d.values())\n",
    "print(d.keys())\n",
    "d.get('a')\n"
   ]
  },
  {
   "cell_type": "code",
   "execution_count": null,
   "metadata": {},
   "outputs": [],
   "source": []
  },
  {
   "cell_type": "code",
   "execution_count": 4,
   "metadata": {},
   "outputs": [],
   "source": [
    "l = [2,3,4,1,5,6,7]"
   ]
  },
  {
   "cell_type": "code",
   "execution_count": 5,
   "metadata": {},
   "outputs": [],
   "source": [
    "def bsort(l):\n",
    "    for i in range(0, len(l)):\n",
    "        for j in range(i+1, len(l)):\n",
    "            if l[i] > l[j]:\n",
    "                temp = l[i]\n",
    "                l[i] = l[j]\n",
    "                l[j] = temp"
   ]
  },
  {
   "cell_type": "code",
   "execution_count": 6,
   "metadata": {},
   "outputs": [
    {
     "name": "stdout",
     "output_type": "stream",
     "text": [
      "[2, 3, 4, 1, 5, 6, 7]\n"
     ]
    }
   ],
   "source": [
    "print(l)"
   ]
  },
  {
   "cell_type": "code",
   "execution_count": 17,
   "metadata": {},
   "outputs": [
    {
     "name": "stdout",
     "output_type": "stream",
     "text": [
      "[4, 5, 6, 7, 9, 12, 34, 56]\n"
     ]
    }
   ],
   "source": [
    "bsort(l)\n",
    "print(l)"
   ]
  },
  {
   "cell_type": "code",
   "execution_count": 40,
   "metadata": {},
   "outputs": [],
   "source": [
    "import math\n",
    "\n",
    "def mean(l):\n",
    "    sum = 0\n",
    "    for i in l:\n",
    "        sum += i\n",
    "    return sum / len(l)\n",
    "\n",
    "def variance(l):\n",
    "    mn = mean(l)\n",
    "    sum = 0\n",
    "    for i in l:\n",
    "        tmp = (i - mn)*(i - mn)\n",
    "        sum += tmp\n",
    "    sum = sum / len(l)\n",
    "    return sum\n",
    "\n",
    "def std(l):\n",
    "    mn = mean(l)\n",
    "    nl = []\n",
    "    sum = 0\n",
    "    for i in l:\n",
    "        tmp = (i - mn)*(i - mn)\n",
    "        nl.append(tmp)\n",
    "        sum += tmp\n",
    "    sum = math.sqrt(sum/len(l))\n",
    "    return sum"
   ]
  },
  {
   "cell_type": "code",
   "execution_count": 31,
   "metadata": {},
   "outputs": [
    {
     "name": "stdout",
     "output_type": "stream",
     "text": [
      "[4, 5, 6, 7, 9, 12, 34, 56]\n",
      "16.625\n",
      "6.16425558157674\n"
     ]
    }
   ],
   "source": [
    "# mean = sum(l)/len(l)\n",
    "# print(mean)\n",
    "print(l)\n",
    "print(mean(l))\n",
    "print(std(l))"
   ]
  },
  {
   "cell_type": "code",
   "execution_count": 9,
   "metadata": {},
   "outputs": [
    {
     "name": "stdout",
     "output_type": "stream",
     "text": [
      "4\n"
     ]
    }
   ],
   "source": [
    "median = 0\n",
    "bsort(l)\n",
    "# print(l)\n",
    "median = l[len(l)//2]\n",
    "print(median)"
   ]
  },
  {
   "cell_type": "code",
   "execution_count": 10,
   "metadata": {},
   "outputs": [
    {
     "name": "stdout",
     "output_type": "stream",
     "text": [
      "[2, 1, 1, 3, 1, 1, 5, 1, 10, 1]\n",
      "[1, 2, 3, 4, 5, 6, 7, 8, 9, 10]\n",
      "9\n"
     ]
    }
   ],
   "source": [
    "l = [1,1,2,3,4,4,4,5,6,7,7,7,7,7,8,9,9,9,9,9,9,9,9,9,9,10]\n",
    "dl = {}\n",
    "for i in l:\n",
    "    dl[i] = 0\n",
    "for i in l:\n",
    "    dl[i] += 1\n",
    "\n",
    "v = list(dl.values())\n",
    "k = list(dl.keys())\n",
    "print(v)\n",
    "print(k)\n",
    "mode = k[v.index(max(v))]\n",
    "print(mode)"
   ]
  },
  {
   "cell_type": "code",
   "execution_count": 43,
   "metadata": {},
   "outputs": [
    {
     "name": "stdout",
     "output_type": "stream",
     "text": [
      "303.984375\n",
      "17.435147690799756\n"
     ]
    }
   ],
   "source": [
    "import statistics as st\n",
    "l = [6,7,4,5,9,12,34,56]\n",
    "# var = st.variance(l)\n",
    "# sd = st.stdev(l)\n",
    "var = variance(l)\n",
    "sd = std(l)\n",
    "print(var)\n",
    "print(sd)"
   ]
  },
  {
   "cell_type": "code",
   "execution_count": 12,
   "metadata": {},
   "outputs": [],
   "source": [
    "def normalise(l):\n",
    "    nl = []\n",
    "    minel = min(l)\n",
    "    maxel = max(l)\n",
    "    for i in l:\n",
    "        nl.append(round((i - minel)/(maxel - minel),3))\n",
    "    return nl\n",
    "\n",
    "def standardise(l):\n",
    "    nl = []\n",
    "    mean = st.mean(l)\n",
    "    std = st.stdev(l)\n",
    "    for i in l:\n",
    "        nl.append(round((i - mean)/std, 3))\n",
    "    return nl"
   ]
  },
  {
   "cell_type": "code",
   "execution_count": 16,
   "metadata": {},
   "outputs": [
    {
     "name": "stdout",
     "output_type": "stream",
     "text": [
      "[4, 5, 6, 7, 9, 12, 34, 56]\n",
      "[0.0, 0.019, 0.038, 0.058, 0.096, 0.154, 0.577, 1.0]\n",
      "[-0.677, -0.624, -0.57, -0.516, -0.409, -0.248, 0.932, 2.113]\n"
     ]
    }
   ],
   "source": [
    "l.sort()\n",
    "print(l)\n",
    "print(normalise(l))\n",
    "print(standardise(l))"
   ]
  }
 ],
 "metadata": {
  "interpreter": {
   "hash": "40ba3dbd2e31b17c5fa82559588dde750c548887c125cfef57d9592e32260564"
  },
  "kernelspec": {
   "display_name": "Python 3",
   "language": "python",
   "name": "python3"
  },
  "language_info": {
   "codemirror_mode": {
    "name": "ipython",
    "version": 3
   },
   "file_extension": ".py",
   "mimetype": "text/x-python",
   "name": "python",
   "nbconvert_exporter": "python",
   "pygments_lexer": "ipython3",
   "version": "3.8.5"
  }
 },
 "nbformat": 4,
 "nbformat_minor": 4
}
